{
  "nbformat": 4,
  "nbformat_minor": 0,
  "metadata": {
    "colab": {
      "provenance": [],
      "mount_file_id": "18GGi_u99iz4q6JMcarqTbDBAOYpuXQlE",
      "authorship_tag": "ABX9TyNb2VvKPtpjdPRUC5gMNaPK",
      "include_colab_link": true
    },
    "kernelspec": {
      "name": "python3",
      "display_name": "Python 3"
    },
    "language_info": {
      "name": "python"
    }
  },
  "cells": [
    {
      "cell_type": "markdown",
      "metadata": {
        "id": "view-in-github",
        "colab_type": "text"
      },
      "source": [
        "<a href=\"https://colab.research.google.com/github/Misudhari/100-Days-Python/blob/main/Set_1.ipynb\" target=\"_parent\"><img src=\"https://colab.research.google.com/assets/colab-badge.svg\" alt=\"Open In Colab\"/></a>"
      ]
    },
    {
      "cell_type": "markdown",
      "source": [
        "#Problem 1\n",
        "Multiples of 3 or 5\n"
      ],
      "metadata": {
        "id": "FCZZrpC2l2wX"
      }
    },
    {
      "cell_type": "code",
      "execution_count": null,
      "metadata": {
        "colab": {
          "base_uri": "https://localhost:8080/"
        },
        "id": "87T-8GTHll_O",
        "outputId": "c479f5bc-3fdf-4189-f09c-c8432546704a"
      },
      "outputs": [
        {
          "output_type": "stream",
          "name": "stdout",
          "text": [
            "9\n",
            "9 is multiple of 3\n"
          ]
        }
      ],
      "source": [
        "x = int(input())\n",
        "\n",
        "if x % 3 == 0 and x % 5 == 0:\n",
        "  print(\"{} is multiple of 3 and 5\".format(x))\n",
        "elif x % 3 == 0:\n",
        "  print(\"{} is multiple of 3\".format(x))\n",
        "elif x % 5 == 0:\n",
        "  print(\"{} is multiple of 5\".format(x))"
      ]
    },
    {
      "cell_type": "markdown",
      "source": [
        "#Problem 2\n",
        "Even Fibonacci numbers"
      ],
      "metadata": {
        "id": "-AQlhME0nk13"
      }
    },
    {
      "cell_type": "code",
      "source": [
        "fibo = [0,1]\n",
        "num = 0\n",
        "i = 0\n",
        "\n",
        "while True:\n",
        "    num = fibo[i] + fibo[i+1]\n",
        "    if num < 4000000:\n",
        "      fibo.append(num)\n",
        "    else:\n",
        "      break\n",
        "    i+=1\n",
        "\n",
        "new_sum = 0\n",
        "for number in fibo:\n",
        "  if number % 2 == 0:\n",
        "    new_sum += number\n",
        "    if new_sum > 4000000:\n",
        "      new_sum -= number\n",
        "      \n",
        "print(fibo)\n",
        "print(new_sum)"
      ],
      "metadata": {
        "id": "v1mGZ9wQnOvN",
        "colab": {
          "base_uri": "https://localhost:8080/"
        },
        "outputId": "703f890e-db48-4ff8-d24a-a87b6fcc02a9"
      },
      "execution_count": null,
      "outputs": [
        {
          "output_type": "stream",
          "name": "stdout",
          "text": [
            "[0, 1, 1, 2, 3, 5, 8, 13, 21, 34, 55, 89, 144, 233, 377, 610, 987, 1597, 2584, 4181, 6765, 10946, 17711, 28657, 46368, 75025, 121393, 196418, 317811, 514229, 832040, 1346269, 2178309, 3524578]\n",
            "1089154\n"
          ]
        }
      ]
    },
    {
      "cell_type": "markdown",
      "source": [
        "#Program 3\n",
        "Largest Prime Factor"
      ],
      "metadata": {
        "id": "zCU0VrmBTQyA"
      }
    },
    {
      "cell_type": "code",
      "source": [
        "def primenum(number):\n",
        "  if number == 2:\n",
        "    return True\n",
        "  for i in range(2, (int(number/2) + 1)):\n",
        "    if number == i:\n",
        "      continue\n",
        "    if number % i == 0:\n",
        "      return False\n",
        "    else:\n",
        "      return True\n",
        "max = 0\n",
        "prime_fact = [1]\n",
        "num = int(input())\n",
        "for i in range(1, int(num/2)):\n",
        "  if primenum(i):\n",
        "    if num % i == 0:\n",
        "      max = i\n",
        "\n",
        "print(max)\n"
      ],
      "metadata": {
        "id": "sylzMCW2N-6J",
        "colab": {
          "base_uri": "https://localhost:8080/"
        },
        "outputId": "bcfa142d-9a10-486a-81f9-66e78c5f9c65"
      },
      "execution_count": 42,
      "outputs": [
        {
          "output_type": "stream",
          "name": "stdout",
          "text": [
            "1569\n",
            "523\n"
          ]
        }
      ]
    },
    {
      "cell_type": "code",
      "source": [],
      "metadata": {
        "id": "nol3oHQSisDG"
      },
      "execution_count": 38,
      "outputs": []
    }
  ]
}