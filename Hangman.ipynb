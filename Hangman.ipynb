{
  "nbformat": 4,
  "nbformat_minor": 0,
  "metadata": {
    "colab": {
      "name": "Hangman.ipynb",
      "provenance": [],
      "authorship_tag": "ABX9TyNCjXYF7nficlm7chnA+lZQ",
      "include_colab_link": true
    },
    "kernelspec": {
      "name": "python3",
      "display_name": "Python 3"
    },
    "language_info": {
      "name": "python"
    }
  },
  "cells": [
    {
      "cell_type": "markdown",
      "metadata": {
        "id": "view-in-github",
        "colab_type": "text"
      },
      "source": [
        "<a href=\"https://colab.research.google.com/github/Misudhari/100-Days-Python/blob/main/Hangman.ipynb\" target=\"_parent\"><img src=\"https://colab.research.google.com/assets/colab-badge.svg\" alt=\"Open In Colab\"/></a>"
      ]
    },
    {
      "cell_type": "code",
      "source": [
        "import random"
      ],
      "metadata": {
        "id": "Csk24ArYrOf7"
      },
      "execution_count": 2,
      "outputs": []
    },
    {
      "cell_type": "code",
      "execution_count": null,
      "metadata": {
        "id": "JZDjz95uoXli"
      },
      "outputs": [],
      "source": [
        "# def drawHangman():\n",
        "  # \n",
        "# =======================\n",
        "stages = ['''\n",
        "  +---+\n",
        "  |   |\n",
        "  O   |\n",
        " /|\\  |\n",
        " / \\  |\n",
        "      |\n",
        "=========\n",
        "''', '''\n",
        "  +---+\n",
        "  |   |\n",
        "  O   |\n",
        " /|\\  |\n",
        " /    |\n",
        "      |\n",
        "=========\n",
        "''', '''\n",
        "  +---+\n",
        "  |   |\n",
        "  O   |\n",
        " /|\\  |\n",
        "      |\n",
        "      |\n",
        "=========\n",
        "''', '''\n",
        "  +---+\n",
        "  |   |\n",
        "  O   |\n",
        " /|   |\n",
        "      |\n",
        "      |\n",
        "=========''', '''\n",
        "  +---+\n",
        "  |   |\n",
        "  O   |\n",
        "  |   |\n",
        "      |\n",
        "      |\n",
        "=========\n",
        "''', '''\n",
        "  +---+\n",
        "  |   |\n",
        "  O   |\n",
        "      |\n",
        "      |\n",
        "      |\n",
        "=========\n",
        "''', '''\n",
        "  +---+\n",
        "  |   |\n",
        "      |\n",
        "      |\n",
        "      |\n",
        "      |\n",
        "=========\n",
        "''']\n",
        "rem = 6\n",
        "# =======================\n",
        "words = ['Air', 'Water', 'Wind', 'Fire', 'Lightening']\n",
        "word = random.choice(words).lower() #chooses randomly from the list\n",
        "status = False\n",
        "ans = \"\"\n",
        "anslist=[]\n",
        "for i in range(len(word)):\n",
        "  anslist.append(\"-\")\n",
        "print (anslist)\n",
        "while (not status):\n",
        "  letter = input(\"Enter your letter:\")\n",
        "  letter = letter.lower()\n",
        "\n",
        "  for i in range(len(word)):\n",
        "    if word[i] == letter:\n",
        "      anslist[i] = letter\n",
        "    else:\n",
        "      print(stages[rem])\n",
        "      rem-=1\n",
        "      continue\n",
        "  print(anslist)\n",
        "  if \"-\" not in anslist:\n",
        "    status = True\n",
        "print(\"You Won!!!\")"
      ]
    },
    {
      "cell_type": "code",
      "source": [
        ""
      ],
      "metadata": {
        "id": "hnrPhs5Crkeh"
      },
      "execution_count": null,
      "outputs": []
    }
  ]
}